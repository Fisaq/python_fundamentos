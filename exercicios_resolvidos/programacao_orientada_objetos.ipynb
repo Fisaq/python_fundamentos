{
 "cells": [
  {
   "cell_type": "code",
   "execution_count": 1,
   "metadata": {},
   "outputs": [
    {
     "name": "stdout",
     "output_type": "stream",
     "text": [
      "Versão da Linguagem Python Usada Neste Jupyter Notebook: 3.7.0\n"
     ]
    }
   ],
   "source": [
    "# Versão da Linguagem Python\n",
    "from platform import python_version\n",
    "print('Versão da Linguagem Python Usada Neste Jupyter Notebook:', python_version())"
   ]
  },
  {
   "cell_type": "markdown",
   "metadata": {},
   "source": [
    "## Exercícios"
   ]
  },
  {
   "cell_type": "code",
   "execution_count": 2,
   "metadata": {},
   "outputs": [],
   "source": [
    "# Exercício 1 - Crie um objeto a partir da classe abaixo, chamado roc1, \n",
    "# passando 2 parâmetros e depois faça uma chamada aos atributos e métodos\n",
    "from math import sqrt\n",
    "\n",
    "class Rocket():\n",
    "     \n",
    "    def __init__(self, x=0, y=0):\n",
    "        self.x = x\n",
    "        self.y = y\n",
    "        \n",
    "    def move_rocket(self, x_increment=0, y_increment=1):\n",
    "        self.x += x_increment\n",
    "        self.y += y_increment\n",
    "        \n",
    "    def print_rocket(self):\n",
    "        print(self.x, self.y)\n",
    "        "
   ]
  },
  {
   "cell_type": "code",
   "execution_count": 4,
   "metadata": {},
   "outputs": [],
   "source": [
    "roc1 = Rocket(5,12)"
   ]
  },
  {
   "cell_type": "code",
   "execution_count": 5,
   "metadata": {},
   "outputs": [
    {
     "name": "stdout",
     "output_type": "stream",
     "text": [
      "10 24\n"
     ]
    }
   ],
   "source": [
    "roc1.move_rocket(5,12)\n",
    "roc1.print_rocket()"
   ]
  },
  {
   "cell_type": "code",
   "execution_count": 20,
   "metadata": {},
   "outputs": [],
   "source": [
    "# Exercício 2 - Crie uma classe chamada Pessoa() com os atributos: nome, cidade, telefone e e-mail. Use pelo menos 2\n",
    "# métodos especiais na sua classe. Crie um objeto da sua classe e faça uma chamada a pelo menos um dos seus métodos\n",
    "# especiais.\n",
    "\n",
    "class Pessoa():\n",
    "    \n",
    "    def __init__(self, nome, cidade, ddd, telefone, email) -> None:\n",
    "        self.nome = nome\n",
    "        self.cidade = cidade\n",
    "        self.telefone = telefone\n",
    "        self.ddd = ddd\n",
    "        self.email = email\n",
    "\n",
    "    def imprimeDados(self):\n",
    "        print('\\n-------- FICHA CADASTRO ---------\\n')\n",
    "        print(f'Nome: {self.nome}\\nCidade: {self.cidade}\\nTelefone: ({self.ddd}) {self.telefone}\\nEmail: {self.email}')\n",
    "\n",
    "    def atualizaTelefone(self, novo_ddd, novo_tel):\n",
    "        self.ddd = novo_ddd\n",
    "        self.telefone = novo_tel\n"
   ]
  },
  {
   "cell_type": "code",
   "execution_count": 21,
   "metadata": {},
   "outputs": [
    {
     "name": "stdout",
     "output_type": "stream",
     "text": [
      "\n",
      "-------- FICHA CADASTRO ---------\n",
      "\n",
      "Nome: Isaque\n",
      "Cidade: Vila Velha\n",
      "Telefone: (27) 999418448\n",
      "Email: isaque@email.com\n"
     ]
    }
   ],
   "source": [
    "pessoa1 = Pessoa('Isaque','Vila Velha', 27, 999418448, 'isaque@email.com')\n",
    "pessoa1.imprimeDados()"
   ]
  },
  {
   "cell_type": "code",
   "execution_count": 23,
   "metadata": {},
   "outputs": [
    {
     "name": "stdout",
     "output_type": "stream",
     "text": [
      "\n",
      "-------- FICHA CADASTRO ---------\n",
      "\n",
      "Nome: Isaque\n",
      "Cidade: Vila Velha\n",
      "Telefone: (11) 998279849\n",
      "Email: isaque@email.com\n"
     ]
    }
   ],
   "source": [
    "pessoa1.atualizaTelefone(11, 998279849)\n",
    "pessoa1.imprimeDados()"
   ]
  },
  {
   "cell_type": "code",
   "execution_count": 27,
   "metadata": {},
   "outputs": [],
   "source": [
    "# Exercício 3 - Crie a classe Smartphone com 2 atributos, tamanho e interface e crie a classe MP3Player com os \n",
    "# atributos capacidade. A classe MP3player deve herdar os atributos da classe Smartphone.\n",
    "\n",
    "\n",
    "class Smartphone():\n",
    "\n",
    "    def __init__(self, tamanho, interface) -> None:\n",
    "        self.tamanho = tamanho\n",
    "        self.interface = interface\n",
    "\n",
    "class MP3Player(Smartphone):\n",
    "\n",
    "    def __init__(self, tamanho, interface, capacidade) -> None:\n",
    "        super().__init__(tamanho, interface)\n",
    "        self.capacidade = capacidade"
   ]
  },
  {
   "cell_type": "code",
   "execution_count": 30,
   "metadata": {},
   "outputs": [
    {
     "name": "stdout",
     "output_type": "stream",
     "text": [
      "6 polegadas\n",
      "32 GB\n",
      "Android\n"
     ]
    }
   ],
   "source": [
    "mp3 = MP3Player('6 polegadas', 'Android', '32 GB')\n",
    "print(f'{mp3.tamanho}\\n{mp3.capacidade}\\n{mp3.interface}')"
   ]
  }
 ],
 "metadata": {
  "kernelspec": {
   "display_name": "Python 3 (ipykernel)",
   "language": "python",
   "name": "python3"
  },
  "language_info": {
   "codemirror_mode": {
    "name": "ipython",
    "version": 3
   },
   "file_extension": ".py",
   "mimetype": "text/x-python",
   "name": "python",
   "nbconvert_exporter": "python",
   "pygments_lexer": "ipython3",
   "version": "3.7.0"
  }
 },
 "nbformat": 4,
 "nbformat_minor": 1
}
